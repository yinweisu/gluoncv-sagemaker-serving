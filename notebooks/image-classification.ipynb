{
 "cells": [
  {
   "cell_type": "markdown",
   "metadata": {},
   "source": [
    "# GluonCV Image Classification - AWS Marketplace Model Package\n",
    "\n",
    "This tutorial walks you through the fundamental usage of GluonCV image classification models in AWS Marketplace.\n"
   ]
  },
  {
   "cell_type": "markdown",
   "metadata": {},
   "source": [
    "## Essential Sagemaker imports"
   ]
  },
  {
   "cell_type": "code",
   "execution_count": 1,
   "metadata": {},
   "outputs": [],
   "source": [
    "import sagemaker as sage\n",
    "import os\n",
    "import boto3\n",
    "from sagemaker import get_execution_role\n",
    "from sagemaker import transformer\n",
    "from sagemaker import model\n",
    "\n",
    "role = get_execution_role()"
   ]
  },
  {
   "cell_type": "markdown",
   "metadata": {},
   "source": [
    "##  Create the session"
   ]
  },
  {
   "cell_type": "code",
   "execution_count": 2,
   "metadata": {},
   "outputs": [
    {
     "data": {
      "text/plain": [
       "'us-west-2'"
      ]
     },
     "execution_count": 2,
     "metadata": {},
     "output_type": "execute_result"
    }
   ],
   "source": [
    "sess = sage.Session()\n",
    "\n",
    "account = sess.boto_session.client('sts').get_caller_identity()['Account']\n",
    "region = sess.boto_session.region_name\n",
    "region"
   ]
  },
  {
   "cell_type": "markdown",
   "metadata": {},
   "source": [
    "## Subscribe to the model\n",
    "\n",
    "Before you can deploy the model, your account needs to be subscribed to it.\n",
    "\n",
    "- Open the Model Package listing page and search for GluonCV image classification models .\n",
    "- Read the product overview section and Highlights section to understand the value proposition of our model package.\n",
    "- View usage information and then additional resources sections. \n",
    "- Click on Continue to Subscribe button & then Click on \"Accept Offer\" button on the next page.\n",
    "- Next, Continue to Configuration button becomes activated and when you click on the button, you will see that a Product Arn will appear.\n",
    "- You have successfully subscribed to our model package. You can find it in your SageMaker console. Keep record of the model package arn you have subscribed to.\n",
    "- Close the page and continue executing this notebook."
   ]
  },
  {
   "cell_type": "code",
   "execution_count": 3,
   "metadata": {},
   "outputs": [],
   "source": [
    "modelpackage_arn = 'arn:aws:sagemaker:us-west-2:985964311364:model-package/gluoncv-resnet50-v1b-1594338795'"
   ]
  },
  {
   "cell_type": "markdown",
   "metadata": {},
   "source": [
    "## Create Model"
   ]
  },
  {
   "cell_type": "code",
   "execution_count": 4,
   "metadata": {},
   "outputs": [
    {
     "name": "stderr",
     "output_type": "stream",
     "text": [
      "Parameter image will be renamed to image_uri in SageMaker Python SDK v2.\n"
     ]
    }
   ],
   "source": [
    "from sagemaker import ModelPackage\n",
    "\n",
    "def predict_wrapper(endpoint, session):\n",
    "    return sage.RealTimePredictor(endpoint, session, content_type='image/jpeg')\n",
    "\n",
    "# Create a deployable model\n",
    "model = ModelPackage(role=role,\n",
    "                     model_package_arn = modelpackage_arn,\n",
    "                     sagemaker_session = sess,\n",
    "                     predictor_cls = predict_wrapper)\n",
    "endpoint_name = 'gluoncv-resnet50'"
   ]
  },
  {
   "cell_type": "markdown",
   "metadata": {},
   "source": [
    "## Create live Inference Endpoint\n",
    "\n",
    "Now that we have the model created, we can launch the live inference endpoint, this may take a while in the background."
   ]
  },
  {
   "cell_type": "code",
   "execution_count": 5,
   "metadata": {},
   "outputs": [
    {
     "name": "stdout",
     "output_type": "stream",
     "text": [
      "-------------!"
     ]
    }
   ],
   "source": [
    "predictor = model.deploy(1, 'ml.m4.xlarge', endpoint_name=endpoint_name)"
   ]
  },
  {
   "cell_type": "markdown",
   "metadata": {},
   "source": [
    "## Let's grab some demo images for inference"
   ]
  },
  {
   "cell_type": "code",
   "execution_count": 6,
   "metadata": {},
   "outputs": [
    {
     "name": "stdout",
     "output_type": "stream",
     "text": [
      "--2020-08-21 23:07:57--  https://github.com/zhreshold/gluoncv-sagemaker-serving/raw/master/data/transform/cat1.jpg\n",
      "Resolving github.com (github.com)... 140.82.112.3\n",
      "Connecting to github.com (github.com)|140.82.112.3|:443... connected.\n",
      "HTTP request sent, awaiting response... 302 Found\n",
      "Location: https://raw.githubusercontent.com/zhreshold/gluoncv-sagemaker-serving/master/data/transform/cat1.jpg [following]\n",
      "--2020-08-21 23:07:57--  https://raw.githubusercontent.com/zhreshold/gluoncv-sagemaker-serving/master/data/transform/cat1.jpg\n",
      "Resolving raw.githubusercontent.com (raw.githubusercontent.com)... 151.101.52.133\n",
      "Connecting to raw.githubusercontent.com (raw.githubusercontent.com)|151.101.52.133|:443... connected.\n",
      "HTTP request sent, awaiting response... 200 OK\n",
      "Length: 53081 (52K) [image/jpeg]\n",
      "Saving to: ‘cat.jpg’\n",
      "\n",
      "cat.jpg             100%[===================>]  51.84K  --.-KB/s    in 0.01s   \n",
      "\n",
      "2020-08-21 23:07:57 (4.02 MB/s) - ‘cat.jpg’ saved [53081/53081]\n",
      "\n"
     ]
    }
   ],
   "source": [
    "!wget https://github.com/zhreshold/gluoncv-sagemaker-serving/raw/master/data/transform/cat1.jpg -O cat.jpg"
   ]
  },
  {
   "cell_type": "markdown",
   "metadata": {},
   "source": [
    "We can perform a typical image classification task with the live endpoint by posting the raw image data"
   ]
  },
  {
   "cell_type": "code",
   "execution_count": 7,
   "metadata": {},
   "outputs": [
    {
     "name": "stdout",
     "output_type": "stream",
     "text": [
      "{\"prediction\": [{\"class\": \"tiger cat\", \"prob\": \"0.4041753\"}, {\"class\": \"lynx\", \"prob\": \"0.28042606\"}, {\"class\": \"tabby\", \"prob\": \"0.037456095\"}, {\"class\": \"Egyptian cat\", \"prob\": \"0.029903224\"}, {\"class\": \"Siamese cat\", \"prob\": \"0.013234771\"}]}\n"
     ]
    }
   ],
   "source": [
    "file_name = 'cat.jpg'\n",
    "# Open the file and read the image into a bytearray.\n",
    "with open(file_name, \"rb\") as image:\n",
    "  b = bytearray(image.read())\n",
    "\n",
    "# Perform a prediction\n",
    "result = predictor.predict(b).decode('utf-8')\n",
    "\n",
    "with open(\"output.txt\", \"w\") as text_file:\n",
    "    text_file.write(result)\n",
    "    \n",
    "# View the prediction\n",
    "print(result)"
   ]
  },
  {
   "cell_type": "markdown",
   "metadata": {},
   "source": [
    "The image classifier can also be used as image feature extractor at different layers"
   ]
  },
  {
   "cell_type": "code",
   "execution_count": 26,
   "metadata": {},
   "outputs": [
    {
     "name": "stdout",
     "output_type": "stream",
     "text": [
      "length of feature: 1000\n",
      "peek for features [0.19229421019554138, 0.22757908701896667, -0.4809921979904175, 0.4378524720668793, 0.5704623460769653, 0.39407360553741455, -0.9311790466308594, -0.43465763330459595, -1.1562561988830566, -0.6035076379776001, -0.03237644582986832, 0.795693039894104, 0.753682017326355, -0.5762457251548767, 0.42405959963798523, 0.47193852066993713, -0.4915999174118042, -0.7994516491889954, 0.6871213912963867, -0.15457800030708313, -0.2068454921245575, -0.8789792060852051, 0.4469362199306488, 1.107102394104004, -0.4018600285053253, 0.7917894721031189, -0.6949979066848755, 0.15867739915847778, 0.4145841598510742, -0.42396003007888794, 0.3196070194244385, 0.33665621280670166, 0.8471510410308838, 0.9467760324478149, 1.7589367628097534, -0.986995279788971, -0.29512137174606323, 0.572476863861084, 0.7496881484985352, -0.04598068445920944, -0.309583842754364, 0.7713222503662109, 1.3152652978897095, 0.1485675573348999, 0.27398067712783813, 0.20475608110427856, -0.38060492277145386, 1.1031359434127808, -0.0638020858168602, -0.8613405227661133, -0.047347426414489746, 0.2908329963684082, 0.06885558366775513, -0.1123407781124115, 0.6980904340744019, -0.03650742769241333, -0.3001113533973694, 0.35509803891181946, 1.1692137718200684, -0.18850672245025635, 0.5749223828315735, 0.27834880352020264, -0.253146231174469, -0.8066747188568115, -0.25744104385375977, 0.9878680109977722, 0.2301100492477417, 0.039534687995910645, 0.08138376474380493, 0.7158944606781006, -0.007713943719863892, -0.3553839325904846, 0.31009501218795776, 0.33624014258384705, 0.3556368350982666, 0.8007597923278809, 0.25579923391342163, 0.19823679327964783, 0.8623065948486328, 0.2137458473443985, 0.6800962686538696, -0.369167685508728, 0.6989976763725281, -0.16604480147361755, -0.03990492224693298, -0.5080028772354126, 0.524538516998291, 0.24456319212913513, 0.6711053252220154, -0.3553563952445984, 0.09113423526287079, -0.2407911717891693, 0.21836942434310913, -0.2713075578212738, 0.4262666702270508, 0.34475135803222656, 0.5302423238754272, 0.6586681604385376, 0.40797317028045654, 0.2519047260284424]\n"
     ]
    }
   ],
   "source": [
    "import json\n",
    "# retrieve the 'fc'- feature of the fully connected layer\n",
    "result = predictor.predict(b, initial_args={'CustomAttributes': '{\"feature\": \"fc\"}'}).decode('utf-8')\n",
    "\n",
    "# load the feature, slice the prediction [0] as the first output\n",
    "feature = json.loads(result)['feature'][0]\n",
    "print('length of feature:', len(feature))\n",
    "print('peek for features', feature[:100])"
   ]
  },
  {
   "cell_type": "markdown",
   "metadata": {},
   "source": [
    "##  Delete the Endpoint\n",
    "\n",
    "Now that you have successfully performed a real-time inference, you do not need the endpoint any more. you can terminate the same to avoid being charged."
   ]
  },
  {
   "cell_type": "code",
   "execution_count": 27,
   "metadata": {},
   "outputs": [],
   "source": [
    "predictor = sage.RealTimePredictor(endpoint_name, sess, content_type='image/jpeg')\n",
    "predictor.delete_endpoint(delete_endpoint_config=True)"
   ]
  }
 ],
 "metadata": {
  "kernelspec": {
   "display_name": "conda_python3",
   "language": "python",
   "name": "conda_python3"
  },
  "language_info": {
   "codemirror_mode": {
    "name": "ipython",
    "version": 3
   },
   "file_extension": ".py",
   "mimetype": "text/x-python",
   "name": "python",
   "nbconvert_exporter": "python",
   "pygments_lexer": "ipython3",
   "version": "3.6.10"
  }
 },
 "nbformat": 4,
 "nbformat_minor": 4
}
